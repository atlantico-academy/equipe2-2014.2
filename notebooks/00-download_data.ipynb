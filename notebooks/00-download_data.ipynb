{
 "cells": [
  {
   "cell_type": "code",
   "execution_count": 1,
   "id": "8e03c905-d1de-406d-9b6c-5cea4fdc9ec5",
   "metadata": {
    "tags": []
   },
   "outputs": [],
   "source": [
    "import pandas as pd"
   ]
  },
  {
   "cell_type": "code",
   "execution_count": null,
   "id": "5ada4f74-86f4-46c3-9c61-d81c6d2f90d7",
   "metadata": {
    "tags": []
   },
   "outputs": [],
   "source": [
    "df = pd.read_csv(\"https://raw.githubusercontent.com/atlantico-academy/equipe2-2024.2/paulo/data/raw/diabetes_prediction_dataset.csv\")\n",
    "df.head()"
   ]
  },
  {
   "cell_type": "code",
   "execution_count": null,
   "id": "e1422a00-07e9-4b1a-9098-83a754127f1b",
   "metadata": {
    "tags": []
   },
   "outputs": [],
   "source": [
    "dicionario = pd.DataFrame([\n",
    "    {\n",
    "        \"variavel\": \"gender\",\n",
    "        \"descricao\": \"Indica o genêro do paciente\",\n",
    "        \"tipo\":\"qualitativa\",\n",
    "        \"subtipo\":\"nominal\"\n",
    "    },{\n",
    "        \"variavel\": \"age\",\n",
    "        \"descricao\": \"Indica a idade do paciente\",\n",
    "        \"tipo\":\"quantitativa\",\n",
    "        \"subtipo\":\"discreta\"\n",
    "    },{\n",
    "        \"variavel\": \"hypertension\",\n",
    "        \"descricao\": \"Indica se o paciente possui hipertensão\",\n",
    "        \"tipo\":\"quantitativa\",\n",
    "        \"subtipo\":\"discreta\"\n",
    "    },{\n",
    "        \"variavel\": \"heart_disease\",\n",
    "        \"descricao\": \"Indica se o pacinete possui doença no coração\",\n",
    "        \"tipo\":\"quantitativa\",\n",
    "        \"subtipo\":\"discreta\"\n",
    "    },{\n",
    "        \"variavel\": \"smoking_history\",\n",
    "        \"descricao\": \"Indica informações sobre o historico de fumante do paciente\",\n",
    "        \"tipo\":\"qualitativa\",\n",
    "        \"subtipo\":\"nominal\"\n",
    "    },{\n",
    "        \"variavel\": \"bmi\",\n",
    "        \"descricao\": \"Indica o valor do IMC(Indice de Massa Corporal) do paciente\",\n",
    "        \"tipo\":\"quantitativa\",\n",
    "        \"subtipo\":\"contínua\"\n",
    "    },{\n",
    "        \"variavel\": \"HbA1c_level\",\n",
    "        \"descricao\": \"Indica o nivel de açucar presente no sangue do paciente nos últimos 2-3 meses\",\n",
    "        \"tipo\":\"quantitativa\",\n",
    "        \"subtipo\":\"contínua\"\n",
    "    },{\n",
    "        \"variavel\": \"blood_glucose_level\",\n",
    "        \"descricao\": \"Indica o nivel de glicose presente no sangue do paciente\",\n",
    "        \"tipo\":\"quantitativa\",\n",
    "        \"subtipo\":\"discreta\"\n",
    "    },{\n",
    "        \"variavel\": \"diabetes\",\n",
    "        \"descricao\": \"Indica se o paciente possui diabetes\",\n",
    "        \"tipo\":\"quantitativa\",\n",
    "        \"subtipo\":\"discreta\"\n",
    "    }\n",
    "])\n",
    "dicionario.to_csv('../data/external/dictionary.csv', index=False)\n",
    "dicionario"
   ]
  },
  {
   "cell_type": "code",
   "execution_count": null,
   "id": "6339b398-b756-43f2-9569-f9e0ed8eb9dd",
   "metadata": {},
   "outputs": [],
   "source": []
  }
 ],
 "metadata": {
  "kernelspec": {
   "display_name": "Python 3 (ipykernel)",
   "language": "python",
   "name": "python3"
  },
  "language_info": {
   "codemirror_mode": {
    "name": "ipython",
    "version": 3
   },
   "file_extension": ".py",
   "mimetype": "text/x-python",
   "name": "python",
   "nbconvert_exporter": "python",
   "pygments_lexer": "ipython3",
   "version": "3.10.11"
  }
 },
 "nbformat": 4,
 "nbformat_minor": 5
}
