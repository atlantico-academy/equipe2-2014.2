{
 "cells": [
  {
   "cell_type": "markdown",
   "id": "8121f922-4d53-4846-8315-6bdc263888f5",
   "metadata": {},
   "source": [
    "# Análise comparativa de modelos"
   ]
  },
  {
   "cell_type": "code",
   "execution_count": 23,
   "id": "62cf4e4d-3808-4c43-a5ee-4c1db85aa931",
   "metadata": {
    "tags": []
   },
   "outputs": [],
   "source": [
    "from IPython.display import display, Markdown\n",
    "import pandas as pd\n",
    "import numpy as np\n",
    "\n",
    "from sklearn.pipeline import Pipeline\n",
    "from sklearn.impute import SimpleImputer\n",
    "from sklearn.preprocessing import StandardScaler, MinMaxScaler, OneHotEncoder\n",
    "from sklearn.compose import ColumnTransformer"
   ]
  },
  {
   "cell_type": "markdown",
   "id": "d9e8e6fb-2b84-4e46-96a6-2a55125b26a7",
   "metadata": {},
   "source": [
    "## 1. Obtenção de Dados"
   ]
  },
  {
   "cell_type": "code",
   "execution_count": 11,
   "id": "bf317059-1252-454a-a3b5-ed81aa14ac3f",
   "metadata": {
    "tags": []
   },
   "outputs": [
    {
     "data": {
      "text/html": [
       "<div>\n",
       "<style scoped>\n",
       "    .dataframe tbody tr th:only-of-type {\n",
       "        vertical-align: middle;\n",
       "    }\n",
       "\n",
       "    .dataframe tbody tr th {\n",
       "        vertical-align: top;\n",
       "    }\n",
       "\n",
       "    .dataframe thead th {\n",
       "        text-align: right;\n",
       "    }\n",
       "</style>\n",
       "<table border=\"1\" class=\"dataframe\">\n",
       "  <thead>\n",
       "    <tr style=\"text-align: right;\">\n",
       "      <th></th>\n",
       "      <th>variavel</th>\n",
       "      <th>descricao</th>\n",
       "      <th>tipo</th>\n",
       "      <th>subtipo</th>\n",
       "    </tr>\n",
       "  </thead>\n",
       "  <tbody>\n",
       "    <tr>\n",
       "      <th>0</th>\n",
       "      <td>gender</td>\n",
       "      <td>Indica o genêro do paciente</td>\n",
       "      <td>qualitativa</td>\n",
       "      <td>nominal</td>\n",
       "    </tr>\n",
       "    <tr>\n",
       "      <th>1</th>\n",
       "      <td>age</td>\n",
       "      <td>Indica a idade do paciente</td>\n",
       "      <td>quantitativa</td>\n",
       "      <td>discreta</td>\n",
       "    </tr>\n",
       "    <tr>\n",
       "      <th>2</th>\n",
       "      <td>hypertension</td>\n",
       "      <td>Indica se o paciente possui hipertensão</td>\n",
       "      <td>quantitativa</td>\n",
       "      <td>discreta</td>\n",
       "    </tr>\n",
       "    <tr>\n",
       "      <th>3</th>\n",
       "      <td>heart_disease</td>\n",
       "      <td>Indica se o pacinete possui doença no coração</td>\n",
       "      <td>quantitativa</td>\n",
       "      <td>discreta</td>\n",
       "    </tr>\n",
       "    <tr>\n",
       "      <th>4</th>\n",
       "      <td>smoking_history</td>\n",
       "      <td>Indica informações sobre o historico de fumant...</td>\n",
       "      <td>qualitativa</td>\n",
       "      <td>nominal</td>\n",
       "    </tr>\n",
       "    <tr>\n",
       "      <th>5</th>\n",
       "      <td>bmi</td>\n",
       "      <td>Indica o valor do IMC(Indice de Massa Corporal...</td>\n",
       "      <td>quantitativa</td>\n",
       "      <td>contínua</td>\n",
       "    </tr>\n",
       "    <tr>\n",
       "      <th>6</th>\n",
       "      <td>HbA1c_level</td>\n",
       "      <td>Indica o nivel de açucar presente no sangue do...</td>\n",
       "      <td>quantitativa</td>\n",
       "      <td>contínua</td>\n",
       "    </tr>\n",
       "    <tr>\n",
       "      <th>7</th>\n",
       "      <td>blood_glucose_level</td>\n",
       "      <td>Indica o nivel de glicose presente no sangue d...</td>\n",
       "      <td>quantitativa</td>\n",
       "      <td>discreta</td>\n",
       "    </tr>\n",
       "    <tr>\n",
       "      <th>8</th>\n",
       "      <td>diabetes</td>\n",
       "      <td>Indica se o paciente possui diabetes</td>\n",
       "      <td>quantitativa</td>\n",
       "      <td>discreta</td>\n",
       "    </tr>\n",
       "  </tbody>\n",
       "</table>\n",
       "</div>"
      ],
      "text/plain": [
       "              variavel                                          descricao  \\\n",
       "0               gender                        Indica o genêro do paciente   \n",
       "1                  age                         Indica a idade do paciente   \n",
       "2         hypertension            Indica se o paciente possui hipertensão   \n",
       "3        heart_disease      Indica se o pacinete possui doença no coração   \n",
       "4      smoking_history  Indica informações sobre o historico de fumant...   \n",
       "5                  bmi  Indica o valor do IMC(Indice de Massa Corporal...   \n",
       "6          HbA1c_level  Indica o nivel de açucar presente no sangue do...   \n",
       "7  blood_glucose_level  Indica o nivel de glicose presente no sangue d...   \n",
       "8             diabetes               Indica se o paciente possui diabetes   \n",
       "\n",
       "           tipo   subtipo  \n",
       "0   qualitativa   nominal  \n",
       "1  quantitativa  discreta  \n",
       "2  quantitativa  discreta  \n",
       "3  quantitativa  discreta  \n",
       "4   qualitativa   nominal  \n",
       "5  quantitativa  contínua  \n",
       "6  quantitativa  contínua  \n",
       "7  quantitativa  discreta  \n",
       "8  quantitativa  discreta  "
      ]
     },
     "execution_count": 11,
     "metadata": {},
     "output_type": "execute_result"
    }
   ],
   "source": [
    "df = pd.read_csv(\"../data/raw/data.csv\")\n",
    "df_dict = pd.read_csv(\"../data/external/dictionary.csv\")\n",
    "df_dict"
   ]
  },
  {
   "cell_type": "markdown",
   "id": "59c1e98d-b2dc-4ca1-860a-6d67a87950fc",
   "metadata": {},
   "source": [
    "## 2. Preparação de dados"
   ]
  },
  {
   "cell_type": "code",
   "execution_count": 21,
   "id": "79b65e8e-4f0e-4ba0-a229-d19626d7db07",
   "metadata": {
    "tags": []
   },
   "outputs": [],
   "source": [
    "# Definindo a variável alvo e as colunas nominais, contínuas e discretas\n",
    "target_column = 'diabetes'  # A variável alvo\n",
    "\n",
    "# Filtrando as colunas nominais e contínuas\n",
    "nominal_columns = (\n",
    "    df_dict\n",
    "    .query(\"subtipo == 'nominal' and variavel != @target_column\")\n",
    "    .variavel\n",
    "    .to_list()\n",
    ")\n",
    "\n",
    "continuous_columns = (\n",
    "    df_dict\n",
    "    .query(\"subtipo == 'continua'\")\n",
    "    .variavel\n",
    "    .to_list()\n",
    ")\n",
    "\n",
    "# Filtrando as colunas discretas\n",
    "discrete_columns = (\n",
    "    df_dict\n",
    "    .query(\"subtipo == 'discreta'and variavel != @target_column\")\n",
    "    .variavel\n",
    "    .to_list()\n",
    ")\n",
    "\n",
    "# Separando as features (X) da variável alvo (y)\n",
    "X = df.drop(columns=[target_column], axis=1)\n",
    "y = df[target_column]"
   ]
  },
  {
   "cell_type": "markdown",
   "id": "0b58047b-130b-4a19-a7f6-c51b00e98ef6",
   "metadata": {},
   "source": [
    "### 2.1 Pré-processamento"
   ]
  },
  {
   "cell_type": "code",
   "execution_count": 24,
   "id": "ae26f5d5-a78c-4058-bae9-8a88ad514650",
   "metadata": {
    "tags": []
   },
   "outputs": [
    {
     "name": "stdout",
     "output_type": "stream",
     "text": [
      "X_preprocessed shape: (100000, 11)\n",
      "X_preprocessed sample: [[0.         0.         0.         0.         0.         1.\n",
      "  0.         1.         0.         1.         0.27272727]\n",
      " [0.         0.         0.         0.         0.         0.\n",
      "  0.         0.67467467 0.         0.         0.        ]\n",
      " [1.         0.         0.         0.         0.         1.\n",
      "  0.         0.34934935 0.         0.         0.35454545]\n",
      " [0.         0.         1.         0.         0.         0.\n",
      "  0.         0.44944945 0.         0.         0.34090909]\n",
      " [1.         0.         1.         0.         0.         0.\n",
      "  0.         0.94994995 1.         1.         0.34090909]]\n"
     ]
    }
   ],
   "source": [
    "# Pré-processador para variáveis nominais\n",
    "nominal_preprocessor = Pipeline([\n",
    "    ('missing', SimpleImputer(strategy='most_frequent')),  # Tratamento de dados faltantes\n",
    "    ('encoding', OneHotEncoder(sparse_output=False, drop='first')),  # Codificação de variáveis nominais\n",
    "])\n",
    "\n",
    "# Pré-processador para variáveis contínuas\n",
    "continuous_preprocessor = Pipeline([\n",
    "    ('missing', SimpleImputer(strategy='mean')),  # Tratamento de dados faltantes\n",
    "    ('normalization', StandardScaler())  # Normalização de dados contínuos\n",
    "])\n",
    "\n",
    "# Pré-processador para variáveis discretas\n",
    "discrete_preprocessor = Pipeline([\n",
    "    ('missing', SimpleImputer(strategy='most_frequent')),  # Tratamento de dados faltantes\n",
    "    ('normalization', MinMaxScaler())  # Normalização de variáveis discretas\n",
    "])\n",
    "\n",
    "# Combinando os pré-processadores usando ColumnTransformer\n",
    "preprocessor = ColumnTransformer([\n",
    "    ('nominal', nominal_preprocessor, nominal_columns),\n",
    "    ('continuous', continuous_preprocessor, continuous_columns),\n",
    "    ('discrete', discrete_preprocessor, discrete_columns)\n",
    "])\n",
    "\n",
    "# Aplicando o pré-processamento ao conjunto de dados\n",
    "X_preprocessed = preprocessor.fit_transform(X)\n",
    "\n",
    "# Verificando os resultados do pré-processamento\n",
    "print(\"X_preprocessed shape:\", X_preprocessed.shape)\n",
    "print(\"X_preprocessed sample:\", X_preprocessed[:5])"
   ]
  },
  {
   "cell_type": "code",
   "execution_count": null,
   "id": "3c3a1a47-197c-45a2-83b6-3e2077b664c5",
   "metadata": {},
   "outputs": [],
   "source": []
  }
 ],
 "metadata": {
  "kernelspec": {
   "display_name": "Python 3 (ipykernel)",
   "language": "python",
   "name": "python3"
  },
  "language_info": {
   "codemirror_mode": {
    "name": "ipython",
    "version": 3
   },
   "file_extension": ".py",
   "mimetype": "text/x-python",
   "name": "python",
   "nbconvert_exporter": "python",
   "pygments_lexer": "ipython3",
   "version": "3.10.11"
  }
 },
 "nbformat": 4,
 "nbformat_minor": 5
}
