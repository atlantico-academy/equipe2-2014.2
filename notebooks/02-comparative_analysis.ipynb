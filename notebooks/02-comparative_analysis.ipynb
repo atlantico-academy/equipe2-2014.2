{
 "cells": [
  {
   "cell_type": "markdown",
   "id": "7dcc5de1-322c-4ff1-bdaa-320867a7d282",
   "metadata": {},
   "source": [
    "# Análise comparativa de modelos"
   ]
  },
  {
   "cell_type": "code",
   "execution_count": 1,
   "id": "d4c44752-81aa-4d2c-a04f-966a1ca58381",
   "metadata": {
    "tags": []
   },
   "outputs": [],
   "source": [
    "from IPython.display import Image, display, Markdown\n",
    "import numpy as np\n",
    "import pandas as pd\n",
    "import seaborn as sns\n",
    "import matplotlib.pyplot as plt\n",
    "from scipy import stats\n",
    "import joblib\n",
    "\n",
    "from sklearn.pipeline import Pipeline\n",
    "from sklearn.impute import SimpleImputer\n",
    "from sklearn.preprocessing import StandardScaler, MinMaxScaler, OneHotEncoder, OrdinalEncoder, LabelEncoder\n",
    "from sklearn.compose import ColumnTransformer\n",
    "from sklearn.linear_model import LogisticRegression\n",
    "\n",
    "from sklearn.model_selection import ShuffleSplit, GridSearchCV, KFold, cross_validate\n",
    "from sklearn.naive_bayes import GaussianNB\n",
    "from sklearn.tree import DecisionTreeClassifier\n",
    "from sklearn.ensemble import RandomForestClassifier\n",
    "from sklearn.naive_bayes import ComplementNB\n",
    "\n",
    "import warnings\n",
    "warnings.filterwarnings(\"ignore\", category=UserWarning)"
   ]
  },
  {
   "cell_type": "markdown",
   "id": "bf3ed9ad-8e6e-4069-bb37-9d508a1fbf59",
   "metadata": {},
   "source": [
    "## 1. Obtenção de Dados"
   ]
  },
  {
   "cell_type": "markdown",
   "id": "2a93d02e-1b2c-44b9-a994-35161e215fa7",
   "metadata": {},
   "source": [
    "Nessa etapa obtemos novamente os arquivos brutos de dados e o dicionário antes de iniciar o pré-processamento."
   ]
  },
  {
   "cell_type": "code",
   "execution_count": 2,
   "id": "4c0748a5-e4cc-4931-8716-2d77e9995753",
   "metadata": {
    "tags": []
   },
   "outputs": [
    {
     "data": {
      "text/html": [
       "<div>\n",
       "<style scoped>\n",
       "    .dataframe tbody tr th:only-of-type {\n",
       "        vertical-align: middle;\n",
       "    }\n",
       "\n",
       "    .dataframe tbody tr th {\n",
       "        vertical-align: top;\n",
       "    }\n",
       "\n",
       "    .dataframe thead th {\n",
       "        text-align: right;\n",
       "    }\n",
       "</style>\n",
       "<table border=\"1\" class=\"dataframe\">\n",
       "  <thead>\n",
       "    <tr style=\"text-align: right;\">\n",
       "      <th></th>\n",
       "      <th>variavel</th>\n",
       "      <th>descricao</th>\n",
       "      <th>tipo</th>\n",
       "      <th>subtipo</th>\n",
       "    </tr>\n",
       "  </thead>\n",
       "  <tbody>\n",
       "    <tr>\n",
       "      <th>0</th>\n",
       "      <td>gender</td>\n",
       "      <td>Indica o genêro do paciente</td>\n",
       "      <td>qualitativa</td>\n",
       "      <td>nominal</td>\n",
       "    </tr>\n",
       "    <tr>\n",
       "      <th>1</th>\n",
       "      <td>age</td>\n",
       "      <td>Indica a idade do paciente</td>\n",
       "      <td>quantitativa</td>\n",
       "      <td>discreta</td>\n",
       "    </tr>\n",
       "    <tr>\n",
       "      <th>2</th>\n",
       "      <td>hypertension</td>\n",
       "      <td>Indica se o paciente possui hipertensão</td>\n",
       "      <td>quantitativa</td>\n",
       "      <td>discreta</td>\n",
       "    </tr>\n",
       "    <tr>\n",
       "      <th>3</th>\n",
       "      <td>heart_disease</td>\n",
       "      <td>Indica se o pacinete possui doença no coração</td>\n",
       "      <td>quantitativa</td>\n",
       "      <td>discreta</td>\n",
       "    </tr>\n",
       "    <tr>\n",
       "      <th>4</th>\n",
       "      <td>smoking_history</td>\n",
       "      <td>Indica informações sobre o historico de fumant...</td>\n",
       "      <td>qualitativa</td>\n",
       "      <td>nominal</td>\n",
       "    </tr>\n",
       "    <tr>\n",
       "      <th>5</th>\n",
       "      <td>bmi</td>\n",
       "      <td>Indica o valor do IMC(Indice de Massa Corporal...</td>\n",
       "      <td>quantitativa</td>\n",
       "      <td>contínua</td>\n",
       "    </tr>\n",
       "    <tr>\n",
       "      <th>6</th>\n",
       "      <td>HbA1c_level</td>\n",
       "      <td>Indica o nivel de açucar presente no sangue do...</td>\n",
       "      <td>quantitativa</td>\n",
       "      <td>contínua</td>\n",
       "    </tr>\n",
       "    <tr>\n",
       "      <th>7</th>\n",
       "      <td>blood_glucose_level</td>\n",
       "      <td>Indica o nivel de glicose presente no sangue d...</td>\n",
       "      <td>quantitativa</td>\n",
       "      <td>discreta</td>\n",
       "    </tr>\n",
       "    <tr>\n",
       "      <th>8</th>\n",
       "      <td>diabetes</td>\n",
       "      <td>Indica se o paciente possui diabetes</td>\n",
       "      <td>quantitativa</td>\n",
       "      <td>discreta</td>\n",
       "    </tr>\n",
       "  </tbody>\n",
       "</table>\n",
       "</div>"
      ],
      "text/plain": [
       "              variavel                                          descricao  \\\n",
       "0               gender                        Indica o genêro do paciente   \n",
       "1                  age                         Indica a idade do paciente   \n",
       "2         hypertension            Indica se o paciente possui hipertensão   \n",
       "3        heart_disease      Indica se o pacinete possui doença no coração   \n",
       "4      smoking_history  Indica informações sobre o historico de fumant...   \n",
       "5                  bmi  Indica o valor do IMC(Indice de Massa Corporal...   \n",
       "6          HbA1c_level  Indica o nivel de açucar presente no sangue do...   \n",
       "7  blood_glucose_level  Indica o nivel de glicose presente no sangue d...   \n",
       "8             diabetes               Indica se o paciente possui diabetes   \n",
       "\n",
       "           tipo   subtipo  \n",
       "0   qualitativa   nominal  \n",
       "1  quantitativa  discreta  \n",
       "2  quantitativa  discreta  \n",
       "3  quantitativa  discreta  \n",
       "4   qualitativa   nominal  \n",
       "5  quantitativa  contínua  \n",
       "6  quantitativa  contínua  \n",
       "7  quantitativa  discreta  \n",
       "8  quantitativa  discreta  "
      ]
     },
     "execution_count": 2,
     "metadata": {},
     "output_type": "execute_result"
    }
   ],
   "source": [
    "df = pd.read_csv(\"../data/raw/diabetes_prediction_dataset.csv\")\n",
    "df_dict = pd.read_csv(\"../data/external/dictionary.csv\")\n",
    "df_dict"
   ]
  },
  {
   "cell_type": "markdown",
   "id": "77cb697f-fa4d-40a4-bd84-80f8ce6fbcd8",
   "metadata": {},
   "source": [
    "## 2. Preparação de dados"
   ]
  },
  {
   "cell_type": "markdown",
   "id": "dcdc029a-2f3e-41ae-bf67-4bce6e555519",
   "metadata": {},
   "source": [
    "Aqui realizamos a normalização, codificação e o tratamento de dados discrepantes e/ou faltantes dentro do conjunto de dados."
   ]
  },
  {
   "cell_type": "markdown",
   "id": "ebf0c058-797e-4072-af1a-2b6bccd36db8",
   "metadata": {},
   "source": [
    "### Tratamento de dados faltantes:"
   ]
  },
  {
   "cell_type": "code",
   "execution_count": 3,
   "id": "5f1d346a-9309-4722-8346-1021c2b3fd6f",
   "metadata": {
    "tags": []
   },
   "outputs": [
    {
     "data": {
      "text/plain": [
       "gender                 0\n",
       "age                    0\n",
       "hypertension           0\n",
       "heart_disease          0\n",
       "smoking_history        0\n",
       "bmi                    0\n",
       "HbA1c_level            0\n",
       "blood_glucose_level    0\n",
       "diabetes               0\n",
       "dtype: int64"
      ]
     },
     "execution_count": 3,
     "metadata": {},
     "output_type": "execute_result"
    }
   ],
   "source": [
    "df.isnull().sum()"
   ]
  },
  {
   "cell_type": "markdown",
   "id": "9cb62dec-e4c2-45ca-8538-7d3750b43266",
   "metadata": {},
   "source": [
    "A partir da informação dada pela saída do código acima, é possível perceber que não existem dados faltantes na tabela."
   ]
  },
  {
   "cell_type": "markdown",
   "id": "bfaca9b9-b7c5-48a9-b4c9-c2da0c6a4329",
   "metadata": {
    "tags": []
   },
   "source": [
    "### Tratamento de dados discrepantes:"
   ]
  },
  {
   "cell_type": "code",
   "execution_count": 4,
   "id": "103a8dff-2e83-4e7c-bcd1-e15c0f4942ae",
   "metadata": {
    "tags": []
   },
   "outputs": [
    {
     "data": {
      "text/plain": [
       "(['gender', 'smoking_history'],\n",
       " ['bmi', 'HbA1c_level'],\n",
       " ['age', 'hypertension', 'heart_disease', 'blood_glucose_level'])"
      ]
     },
     "execution_count": 4,
     "metadata": {},
     "output_type": "execute_result"
    }
   ],
   "source": [
    "# Definindo a variável alvo e as colunas nominais, contínuas e discretas\n",
    "target_column = 'diabetes'  # A variável alvo\n",
    "\n",
    "# Filtrando as colunas nominais e contínuas\n",
    "nominal_columns = (\n",
    "    df_dict\n",
    "    .query(\"subtipo == 'nominal'\")\n",
    "    .variavel\n",
    "    .to_list()\n",
    ")\n",
    "\n",
    "continuous_columns = (\n",
    "    df_dict\n",
    "    .query(\"subtipo == 'contínua'\")\n",
    "    .variavel\n",
    "    .to_list()\n",
    ")\n",
    "\n",
    "# Filtrando as colunas discretas\n",
    "discrete_columns = (\n",
    "    df_dict\n",
    "    .query(\"subtipo == 'discreta'and variavel != @target_column\")\n",
    "    .variavel\n",
    "    .to_list()\n",
    ")\n",
    "\n",
    "# Separando as features (X) da variável alvo (y)\n",
    "X = df.drop(columns=[target_column], axis=1)\n",
    "y = df[target_column]\n",
    "nominal_columns, continuous_columns, discrete_columns"
   ]
  },
  {
   "cell_type": "markdown",
   "id": "4982ed57-ba79-43f1-ba88-5b73e75e3294",
   "metadata": {},
   "source": [
    "### 2.1 Pré-processamento"
   ]
  },
  {
   "cell_type": "code",
   "execution_count": 5,
   "id": "d9a03e23-f6dd-452b-8c9a-2389dba4c517",
   "metadata": {
    "tags": []
   },
   "outputs": [],
   "source": [
    "# Pré-processador para variáveis nominais\n",
    "nominal_preprocessor = Pipeline([\n",
    "    ('missing', SimpleImputer(strategy='most_frequent')),  # Tratamento de dados faltantes\n",
    "    ('encoding', OneHotEncoder(sparse_output=False, drop='first')),  # Codificação de variáveis nominais\n",
    "])\n",
    "\n",
    "# Pré-processador para variáveis contínuas\n",
    "continuous_preprocessor = Pipeline([\n",
    "    ('missing', SimpleImputer(strategy='mean')),  # Tratamento de dados faltantes\n",
    "    ('normalization', MinMaxScaler())  # Normalização de dados contínuos\n",
    "])\n",
    "\n",
    "# Pré-processador para variáveis discretas\n",
    "discrete_preprocessor = Pipeline([\n",
    "    ('missing', SimpleImputer(strategy='most_frequent')),  # Tratamento de dados faltantes\n",
    "    ('normalization', MinMaxScaler())  # Normalização de variáveis discretas\n",
    "])\n",
    "\n",
    "# Combinando os pré-processadores usando ColumnTransformer\n",
    "preprocessor = ColumnTransformer([\n",
    "    ('nominal', nominal_preprocessor, nominal_columns),\n",
    "    ('continuous', continuous_preprocessor, continuous_columns),\n",
    "    ('discrete', discrete_preprocessor, discrete_columns)\n",
    "])\n",
    "\n",
    "model = LogisticRegression()"
   ]
  },
  {
   "cell_type": "code",
   "execution_count": 6,
   "id": "6b19c01b-d1f3-4c4d-a936-785a6c12c039",
   "metadata": {
    "tags": []
   },
   "outputs": [
    {
     "data": {
      "text/plain": [
       "array([[0.        , 0.        , 0.        , ..., 0.        , 1.        ,\n",
       "        0.27272727],\n",
       "       [0.        , 0.        , 0.        , ..., 0.        , 0.        ,\n",
       "        0.        ],\n",
       "       [1.        , 0.        , 0.        , ..., 0.        , 0.        ,\n",
       "        0.35454545],\n",
       "       ...,\n",
       "       [1.        , 0.        , 0.        , ..., 0.        , 0.        ,\n",
       "        0.34090909],\n",
       "       [0.        , 0.        , 0.        , ..., 0.        , 0.        ,\n",
       "        0.09090909],\n",
       "       [0.        , 0.        , 1.        , ..., 0.        , 0.        ,\n",
       "        0.04545455]])"
      ]
     },
     "execution_count": 6,
     "metadata": {},
     "output_type": "execute_result"
    }
   ],
   "source": [
    "# Aplicando o pré-processamento ao conjunto de dados\n",
    "preprocessor.fit_transform(X)\n",
    "X_transform = preprocessor.transform(X)\n",
    "X_transform"
   ]
  },
  {
   "cell_type": "markdown",
   "id": "879d9909-695c-4f90-8935-fb1c670d9273",
   "metadata": {},
   "source": [
    "## 3. Seleção de modelos"
   ]
  },
  {
   "cell_type": "markdown",
   "id": "abdabf1f-cf81-443a-beab-72a7a64837de",
   "metadata": {},
   "source": [
    "### 3.1. Metodologia"
   ]
  },
  {
   "cell_type": "markdown",
   "id": "79d278c1-2aea-44d2-912d-b5201153438e",
   "metadata": {},
   "source": [
    "Iremos análisar quatro modelos, que serão testados utilizando um método de validação, a saber:\n",
    "\n",
    "- Complement Naive Bayes\n",
    "- Decision Tree\n",
    "- Random Forest\n",
    "- Logistic Regression \n",
    "\n",
    "Além disso, cada um desses algoritmos será testado com diferentes hiper-parametros, para que possamos encontrar o melhor modelo e a melhor configuração possível para esse modelo.\n",
    "\n",
    "Utilizaremos as seguintes métricas para análise:\n",
    "\n",
    "- **Acurácia (accuracy)**: proporção entre os dados que foram corretamente previstos (como positivos ou negativos) com o total de dados observados;\n",
    "- **Precisão (precision)**: proporção entre dados corretamente previstos como positivos e o total de observações positivas.\n",
    "- **Recall**: proporção entre dados corretamente previstos como positivos com o total de observações.\n",
    "- **F1-score**: média entre precision e recall, portanto levando em conta tanto falsos positivos quanto falsos negativos."
   ]
  },
  {
   "cell_type": "markdown",
   "id": "9cac9968-d2f3-48ef-a669-b0e610e086fa",
   "metadata": {
    "tags": []
   },
   "source": [
    "### 3.2. Configuração do experimento"
   ]
  },
  {
   "cell_type": "code",
   "execution_count": 7,
   "id": "633f6af8-5f08-46a8-9321-c156619952c5",
   "metadata": {
    "tags": []
   },
   "outputs": [],
   "source": [
    "# Configurações do experimento\n",
    "n_splits_comparative_analysis = 10\n",
    "n_folds_grid_search = 5\n",
    "test_size = 0.3\n",
    "random_state = 42\n",
    "scoring = 'accuracy'\n",
    "\n",
    "# Métricas para análises\n",
    "metrics = ['accuracy', 'precision_macro', 'recall_macro', 'f1_macro']\n",
    "\n",
    "# Configurações do modelo\n",
    "max_iter = 1000\n",
    "models = [\n",
    "    ('Complement Naive Bayes', ComplementNB(), {'norm': [True, False]}),\n",
    "    ('Decision Tree',  DecisionTreeClassifier(random_state=random_state), {'criterion':['gini','entropy'],'max_depth': [3, 6, 8]}),\n",
    "    ('Random Forest',  RandomForestClassifier(random_state=random_state), {'criterion':['gini','entropy'],'max_depth': [3, 6, 8], 'n_estimators': [10, 30]}),\n",
    "    ('Logistic Regression', LogisticRegression(), {'C' : np.logspace(-4, 4, 20)}),\n",
    "]"
   ]
  },
  {
   "cell_type": "code",
   "execution_count": 8,
   "id": "9bad558f-b3c5-4e49-92e6-842dd7b975c5",
   "metadata": {
    "tags": []
   },
   "outputs": [
    {
     "name": "stdout",
     "output_type": "stream",
     "text": [
      "running Complement Naive Bayes...\n"
     ]
    },
    {
     "data": {
      "text/html": [
       "<div>\n",
       "<style scoped>\n",
       "    .dataframe tbody tr th:only-of-type {\n",
       "        vertical-align: middle;\n",
       "    }\n",
       "\n",
       "    .dataframe tbody tr th {\n",
       "        vertical-align: top;\n",
       "    }\n",
       "\n",
       "    .dataframe thead th {\n",
       "        text-align: right;\n",
       "    }\n",
       "</style>\n",
       "<table border=\"1\" class=\"dataframe\">\n",
       "  <thead>\n",
       "    <tr style=\"text-align: right;\">\n",
       "      <th></th>\n",
       "      <th>fit_time</th>\n",
       "      <th>score_time</th>\n",
       "      <th>test_accuracy</th>\n",
       "      <th>test_precision_macro</th>\n",
       "      <th>test_recall_macro</th>\n",
       "      <th>test_f1_macro</th>\n",
       "    </tr>\n",
       "  </thead>\n",
       "  <tbody>\n",
       "    <tr>\n",
       "      <th>mean</th>\n",
       "      <td>0.250388</td>\n",
       "      <td>0.067390</td>\n",
       "      <td>0.721627</td>\n",
       "      <td>0.544598</td>\n",
       "      <td>0.614368</td>\n",
       "      <td>0.529392</td>\n",
       "    </tr>\n",
       "    <tr>\n",
       "      <th>std</th>\n",
       "      <td>0.030550</td>\n",
       "      <td>0.011869</td>\n",
       "      <td>0.009641</td>\n",
       "      <td>0.001350</td>\n",
       "      <td>0.003011</td>\n",
       "      <td>0.004527</td>\n",
       "    </tr>\n",
       "  </tbody>\n",
       "</table>\n",
       "</div>"
      ],
      "text/plain": [
       "      fit_time  score_time  test_accuracy  test_precision_macro  \\\n",
       "mean  0.250388    0.067390       0.721627              0.544598   \n",
       "std   0.030550    0.011869       0.009641              0.001350   \n",
       "\n",
       "      test_recall_macro  test_f1_macro  \n",
       "mean           0.614368       0.529392  \n",
       "std            0.003011       0.004527  "
      ]
     },
     "metadata": {},
     "output_type": "display_data"
    },
    {
     "name": "stdout",
     "output_type": "stream",
     "text": [
      "running Decision Tree...\n"
     ]
    },
    {
     "data": {
      "text/html": [
       "<div>\n",
       "<style scoped>\n",
       "    .dataframe tbody tr th:only-of-type {\n",
       "        vertical-align: middle;\n",
       "    }\n",
       "\n",
       "    .dataframe tbody tr th {\n",
       "        vertical-align: top;\n",
       "    }\n",
       "\n",
       "    .dataframe thead th {\n",
       "        text-align: right;\n",
       "    }\n",
       "</style>\n",
       "<table border=\"1\" class=\"dataframe\">\n",
       "  <thead>\n",
       "    <tr style=\"text-align: right;\">\n",
       "      <th></th>\n",
       "      <th>fit_time</th>\n",
       "      <th>score_time</th>\n",
       "      <th>test_accuracy</th>\n",
       "      <th>test_precision_macro</th>\n",
       "      <th>test_recall_macro</th>\n",
       "      <th>test_f1_macro</th>\n",
       "    </tr>\n",
       "  </thead>\n",
       "  <tbody>\n",
       "    <tr>\n",
       "      <th>mean</th>\n",
       "      <td>1.581623</td>\n",
       "      <td>0.049074</td>\n",
       "      <td>0.971580</td>\n",
       "      <td>0.981202</td>\n",
       "      <td>0.835390</td>\n",
       "      <td>0.892688</td>\n",
       "    </tr>\n",
       "    <tr>\n",
       "      <th>std</th>\n",
       "      <td>0.092920</td>\n",
       "      <td>0.006744</td>\n",
       "      <td>0.000424</td>\n",
       "      <td>0.004642</td>\n",
       "      <td>0.003491</td>\n",
       "      <td>0.001856</td>\n",
       "    </tr>\n",
       "  </tbody>\n",
       "</table>\n",
       "</div>"
      ],
      "text/plain": [
       "      fit_time  score_time  test_accuracy  test_precision_macro  \\\n",
       "mean  1.581623    0.049074       0.971580              0.981202   \n",
       "std   0.092920    0.006744       0.000424              0.004642   \n",
       "\n",
       "      test_recall_macro  test_f1_macro  \n",
       "mean           0.835390       0.892688  \n",
       "std            0.003491       0.001856  "
      ]
     },
     "metadata": {},
     "output_type": "display_data"
    },
    {
     "name": "stdout",
     "output_type": "stream",
     "text": [
      "running Random Forest...\n"
     ]
    },
    {
     "data": {
      "text/html": [
       "<div>\n",
       "<style scoped>\n",
       "    .dataframe tbody tr th:only-of-type {\n",
       "        vertical-align: middle;\n",
       "    }\n",
       "\n",
       "    .dataframe tbody tr th {\n",
       "        vertical-align: top;\n",
       "    }\n",
       "\n",
       "    .dataframe thead th {\n",
       "        text-align: right;\n",
       "    }\n",
       "</style>\n",
       "<table border=\"1\" class=\"dataframe\">\n",
       "  <thead>\n",
       "    <tr style=\"text-align: right;\">\n",
       "      <th></th>\n",
       "      <th>fit_time</th>\n",
       "      <th>score_time</th>\n",
       "      <th>test_accuracy</th>\n",
       "      <th>test_precision_macro</th>\n",
       "      <th>test_recall_macro</th>\n",
       "      <th>test_f1_macro</th>\n",
       "    </tr>\n",
       "  </thead>\n",
       "  <tbody>\n",
       "    <tr>\n",
       "      <th>mean</th>\n",
       "      <td>15.974738</td>\n",
       "      <td>0.076905</td>\n",
       "      <td>0.971673</td>\n",
       "      <td>0.984873</td>\n",
       "      <td>0.833528</td>\n",
       "      <td>0.892481</td>\n",
       "    </tr>\n",
       "    <tr>\n",
       "      <th>std</th>\n",
       "      <td>0.385394</td>\n",
       "      <td>0.021456</td>\n",
       "      <td>0.000442</td>\n",
       "      <td>0.000301</td>\n",
       "      <td>0.002173</td>\n",
       "      <td>0.001682</td>\n",
       "    </tr>\n",
       "  </tbody>\n",
       "</table>\n",
       "</div>"
      ],
      "text/plain": [
       "       fit_time  score_time  test_accuracy  test_precision_macro  \\\n",
       "mean  15.974738    0.076905       0.971673              0.984873   \n",
       "std    0.385394    0.021456       0.000442              0.000301   \n",
       "\n",
       "      test_recall_macro  test_f1_macro  \n",
       "mean           0.833528       0.892481  \n",
       "std            0.002173       0.001682  "
      ]
     },
     "metadata": {},
     "output_type": "display_data"
    },
    {
     "name": "stdout",
     "output_type": "stream",
     "text": [
      "running Logistic Regression...\n"
     ]
    },
    {
     "data": {
      "text/html": [
       "<div>\n",
       "<style scoped>\n",
       "    .dataframe tbody tr th:only-of-type {\n",
       "        vertical-align: middle;\n",
       "    }\n",
       "\n",
       "    .dataframe tbody tr th {\n",
       "        vertical-align: top;\n",
       "    }\n",
       "\n",
       "    .dataframe thead th {\n",
       "        text-align: right;\n",
       "    }\n",
       "</style>\n",
       "<table border=\"1\" class=\"dataframe\">\n",
       "  <thead>\n",
       "    <tr style=\"text-align: right;\">\n",
       "      <th></th>\n",
       "      <th>fit_time</th>\n",
       "      <th>score_time</th>\n",
       "      <th>test_accuracy</th>\n",
       "      <th>test_precision_macro</th>\n",
       "      <th>test_recall_macro</th>\n",
       "      <th>test_f1_macro</th>\n",
       "    </tr>\n",
       "  </thead>\n",
       "  <tbody>\n",
       "    <tr>\n",
       "      <th>mean</th>\n",
       "      <td>13.828449</td>\n",
       "      <td>0.062725</td>\n",
       "      <td>0.960010</td>\n",
       "      <td>0.918722</td>\n",
       "      <td>0.806368</td>\n",
       "      <td>0.851915</td>\n",
       "    </tr>\n",
       "    <tr>\n",
       "      <th>std</th>\n",
       "      <td>1.359988</td>\n",
       "      <td>0.006603</td>\n",
       "      <td>0.000602</td>\n",
       "      <td>0.003268</td>\n",
       "      <td>0.004927</td>\n",
       "      <td>0.003180</td>\n",
       "    </tr>\n",
       "  </tbody>\n",
       "</table>\n",
       "</div>"
      ],
      "text/plain": [
       "       fit_time  score_time  test_accuracy  test_precision_macro  \\\n",
       "mean  13.828449    0.062725       0.960010              0.918722   \n",
       "std    1.359988    0.006603       0.000602              0.003268   \n",
       "\n",
       "      test_recall_macro  test_f1_macro  \n",
       "mean           0.806368       0.851915  \n",
       "std            0.004927       0.003180  "
      ]
     },
     "metadata": {},
     "output_type": "display_data"
    }
   ],
   "source": [
    "results = pd.DataFrame({})\n",
    "cross_validate_grid_search = KFold(n_splits=n_folds_grid_search)\n",
    "cross_validate_comparative_analysis = ShuffleSplit(n_splits=n_splits_comparative_analysis, test_size=test_size, random_state=random_state)\n",
    "for model_name, model_object, model_parameters in models:\n",
    "    print(f\"running {model_name}...\")\n",
    "    model_grid_search = GridSearchCV(\n",
    "        estimator=model_object,\n",
    "        param_grid=model_parameters,\n",
    "        scoring=scoring,\n",
    "        n_jobs=2,\n",
    "        cv=cross_validate_grid_search\n",
    "    )\n",
    "    approach = Pipeline(steps=[\n",
    "        ('preprocessor', preprocessor),\n",
    "        ('model', model_grid_search)\n",
    "    ])\n",
    "    scores = cross_validate(\n",
    "        estimator=approach,\n",
    "        X=X,\n",
    "        y=y,\n",
    "        cv=cross_validate_comparative_analysis,\n",
    "        n_jobs=2,\n",
    "        scoring=metrics\n",
    "    )\n",
    "    scores['model_name'] = [model_name] * n_splits_comparative_analysis\n",
    "    df_scores = pd.DataFrame(scores)\n",
    "    df_scores =  df_scores.drop(columns=['model_name'])\n",
    "    df_scores = df_scores.agg(['mean', 'std'])\n",
    "    display(df_scores)\n",
    "    results = pd.concat([results, pd.DataFrame(scores)], ignore_index=True)"
   ]
  },
  {
   "cell_type": "code",
   "execution_count": 9,
   "id": "04479484-1978-4777-a25c-6d75a000785a",
   "metadata": {
    "tags": []
   },
   "outputs": [
    {
     "data": {
      "text/markdown": [
       "### 3.3 Resultados gerais e discussão"
      ],
      "text/plain": [
       "<IPython.core.display.Markdown object>"
      ]
     },
     "metadata": {},
     "output_type": "display_data"
    },
    {
     "data": {
      "text/html": [
       "<style type=\"text/css\">\n",
       "#T_f913b td {\n",
       "  text-align: center;\n",
       "}\n",
       "#T_f913b_row0_col0, #T_f913b_row2_col1, #T_f913b_row4_col3, #T_f913b_row6_col3, #T_f913b_row8_col1, #T_f913b_row10_col1 {\n",
       "  color: white;\n",
       "  background-color: gray;\n",
       "  font-weight: bold;\n",
       "}\n",
       "</style>\n",
       "<table id=\"T_f913b\">\n",
       "  <thead>\n",
       "    <tr>\n",
       "      <th class=\"blank\" >&nbsp;</th>\n",
       "      <th class=\"index_name level0\" >model_name</th>\n",
       "      <th id=\"T_f913b_level0_col0\" class=\"col_heading level0 col0\" >Complement Naive Bayes</th>\n",
       "      <th id=\"T_f913b_level0_col1\" class=\"col_heading level0 col1\" >Decision Tree</th>\n",
       "      <th id=\"T_f913b_level0_col2\" class=\"col_heading level0 col2\" >Logistic Regression</th>\n",
       "      <th id=\"T_f913b_level0_col3\" class=\"col_heading level0 col3\" >Random Forest</th>\n",
       "    </tr>\n",
       "  </thead>\n",
       "  <tbody>\n",
       "    <tr>\n",
       "      <th id=\"T_f913b_level0_row0\" class=\"row_heading level0 row0\" rowspan=\"2\">fit_time</th>\n",
       "      <th id=\"T_f913b_level1_row0\" class=\"row_heading level1 row0\" >mean</th>\n",
       "      <td id=\"T_f913b_row0_col0\" class=\"data row0 col0\" >0.250388</td>\n",
       "      <td id=\"T_f913b_row0_col1\" class=\"data row0 col1\" >1.581623</td>\n",
       "      <td id=\"T_f913b_row0_col2\" class=\"data row0 col2\" >13.828449</td>\n",
       "      <td id=\"T_f913b_row0_col3\" class=\"data row0 col3\" >15.974738</td>\n",
       "    </tr>\n",
       "    <tr>\n",
       "      <th id=\"T_f913b_level1_row1\" class=\"row_heading level1 row1\" >std</th>\n",
       "      <td id=\"T_f913b_row1_col0\" class=\"data row1 col0\" >0.030550</td>\n",
       "      <td id=\"T_f913b_row1_col1\" class=\"data row1 col1\" >0.092920</td>\n",
       "      <td id=\"T_f913b_row1_col2\" class=\"data row1 col2\" >1.359988</td>\n",
       "      <td id=\"T_f913b_row1_col3\" class=\"data row1 col3\" >0.385394</td>\n",
       "    </tr>\n",
       "    <tr>\n",
       "      <th id=\"T_f913b_level0_row2\" class=\"row_heading level0 row2\" rowspan=\"2\">score_time</th>\n",
       "      <th id=\"T_f913b_level1_row2\" class=\"row_heading level1 row2\" >mean</th>\n",
       "      <td id=\"T_f913b_row2_col0\" class=\"data row2 col0\" >0.067390</td>\n",
       "      <td id=\"T_f913b_row2_col1\" class=\"data row2 col1\" >0.049074</td>\n",
       "      <td id=\"T_f913b_row2_col2\" class=\"data row2 col2\" >0.062725</td>\n",
       "      <td id=\"T_f913b_row2_col3\" class=\"data row2 col3\" >0.076905</td>\n",
       "    </tr>\n",
       "    <tr>\n",
       "      <th id=\"T_f913b_level1_row3\" class=\"row_heading level1 row3\" >std</th>\n",
       "      <td id=\"T_f913b_row3_col0\" class=\"data row3 col0\" >0.011869</td>\n",
       "      <td id=\"T_f913b_row3_col1\" class=\"data row3 col1\" >0.006744</td>\n",
       "      <td id=\"T_f913b_row3_col2\" class=\"data row3 col2\" >0.006603</td>\n",
       "      <td id=\"T_f913b_row3_col3\" class=\"data row3 col3\" >0.021456</td>\n",
       "    </tr>\n",
       "    <tr>\n",
       "      <th id=\"T_f913b_level0_row4\" class=\"row_heading level0 row4\" rowspan=\"2\">test_accuracy</th>\n",
       "      <th id=\"T_f913b_level1_row4\" class=\"row_heading level1 row4\" >mean</th>\n",
       "      <td id=\"T_f913b_row4_col0\" class=\"data row4 col0\" >0.721627</td>\n",
       "      <td id=\"T_f913b_row4_col1\" class=\"data row4 col1\" >0.971580</td>\n",
       "      <td id=\"T_f913b_row4_col2\" class=\"data row4 col2\" >0.960010</td>\n",
       "      <td id=\"T_f913b_row4_col3\" class=\"data row4 col3\" >0.971673</td>\n",
       "    </tr>\n",
       "    <tr>\n",
       "      <th id=\"T_f913b_level1_row5\" class=\"row_heading level1 row5\" >std</th>\n",
       "      <td id=\"T_f913b_row5_col0\" class=\"data row5 col0\" >0.009641</td>\n",
       "      <td id=\"T_f913b_row5_col1\" class=\"data row5 col1\" >0.000424</td>\n",
       "      <td id=\"T_f913b_row5_col2\" class=\"data row5 col2\" >0.000602</td>\n",
       "      <td id=\"T_f913b_row5_col3\" class=\"data row5 col3\" >0.000442</td>\n",
       "    </tr>\n",
       "    <tr>\n",
       "      <th id=\"T_f913b_level0_row6\" class=\"row_heading level0 row6\" rowspan=\"2\">test_precision_macro</th>\n",
       "      <th id=\"T_f913b_level1_row6\" class=\"row_heading level1 row6\" >mean</th>\n",
       "      <td id=\"T_f913b_row6_col0\" class=\"data row6 col0\" >0.544598</td>\n",
       "      <td id=\"T_f913b_row6_col1\" class=\"data row6 col1\" >0.981202</td>\n",
       "      <td id=\"T_f913b_row6_col2\" class=\"data row6 col2\" >0.918722</td>\n",
       "      <td id=\"T_f913b_row6_col3\" class=\"data row6 col3\" >0.984873</td>\n",
       "    </tr>\n",
       "    <tr>\n",
       "      <th id=\"T_f913b_level1_row7\" class=\"row_heading level1 row7\" >std</th>\n",
       "      <td id=\"T_f913b_row7_col0\" class=\"data row7 col0\" >0.001350</td>\n",
       "      <td id=\"T_f913b_row7_col1\" class=\"data row7 col1\" >0.004642</td>\n",
       "      <td id=\"T_f913b_row7_col2\" class=\"data row7 col2\" >0.003268</td>\n",
       "      <td id=\"T_f913b_row7_col3\" class=\"data row7 col3\" >0.000301</td>\n",
       "    </tr>\n",
       "    <tr>\n",
       "      <th id=\"T_f913b_level0_row8\" class=\"row_heading level0 row8\" rowspan=\"2\">test_recall_macro</th>\n",
       "      <th id=\"T_f913b_level1_row8\" class=\"row_heading level1 row8\" >mean</th>\n",
       "      <td id=\"T_f913b_row8_col0\" class=\"data row8 col0\" >0.614368</td>\n",
       "      <td id=\"T_f913b_row8_col1\" class=\"data row8 col1\" >0.835390</td>\n",
       "      <td id=\"T_f913b_row8_col2\" class=\"data row8 col2\" >0.806368</td>\n",
       "      <td id=\"T_f913b_row8_col3\" class=\"data row8 col3\" >0.833528</td>\n",
       "    </tr>\n",
       "    <tr>\n",
       "      <th id=\"T_f913b_level1_row9\" class=\"row_heading level1 row9\" >std</th>\n",
       "      <td id=\"T_f913b_row9_col0\" class=\"data row9 col0\" >0.003011</td>\n",
       "      <td id=\"T_f913b_row9_col1\" class=\"data row9 col1\" >0.003491</td>\n",
       "      <td id=\"T_f913b_row9_col2\" class=\"data row9 col2\" >0.004927</td>\n",
       "      <td id=\"T_f913b_row9_col3\" class=\"data row9 col3\" >0.002173</td>\n",
       "    </tr>\n",
       "    <tr>\n",
       "      <th id=\"T_f913b_level0_row10\" class=\"row_heading level0 row10\" rowspan=\"2\">test_f1_macro</th>\n",
       "      <th id=\"T_f913b_level1_row10\" class=\"row_heading level1 row10\" >mean</th>\n",
       "      <td id=\"T_f913b_row10_col0\" class=\"data row10 col0\" >0.529392</td>\n",
       "      <td id=\"T_f913b_row10_col1\" class=\"data row10 col1\" >0.892688</td>\n",
       "      <td id=\"T_f913b_row10_col2\" class=\"data row10 col2\" >0.851915</td>\n",
       "      <td id=\"T_f913b_row10_col3\" class=\"data row10 col3\" >0.892481</td>\n",
       "    </tr>\n",
       "    <tr>\n",
       "      <th id=\"T_f913b_level1_row11\" class=\"row_heading level1 row11\" >std</th>\n",
       "      <td id=\"T_f913b_row11_col0\" class=\"data row11 col0\" >0.004527</td>\n",
       "      <td id=\"T_f913b_row11_col1\" class=\"data row11 col1\" >0.001856</td>\n",
       "      <td id=\"T_f913b_row11_col2\" class=\"data row11 col2\" >0.003180</td>\n",
       "      <td id=\"T_f913b_row11_col3\" class=\"data row11 col3\" >0.001682</td>\n",
       "    </tr>\n",
       "  </tbody>\n",
       "</table>\n"
      ],
      "text/plain": [
       "<pandas.io.formats.style.Styler at 0x7f14b6b0b580>"
      ]
     },
     "execution_count": 9,
     "metadata": {},
     "output_type": "execute_result"
    }
   ],
   "source": [
    "def highlight_best(s, props=''):\n",
    "    if s.name[1] != 'std':\n",
    "        if s.name[0].endswith('time'):\n",
    "            return np.where(s == np.nanmin(s.values), props, '')\n",
    "        return np.where(s == np.nanmax(s.values), props, '')\n",
    "\n",
    "display(Markdown(\"### 3.3 Resultados gerais e discussão\"))\n",
    "(\n",
    "    results\n",
    "    .groupby('model_name')\n",
    "    .agg(['mean', 'std']).T\n",
    "    .style\n",
    "    .apply(highlight_best, props='color:white;background-color:gray;font-weight: bold;', axis=1)\n",
    "    .set_table_styles([{'selector': 'td', 'props': 'text-align: center;'}])\n",
    ")"
   ]
  },
  {
   "cell_type": "markdown",
   "id": "0507186a-771e-4dc2-8e5e-22044129af20",
   "metadata": {},
   "source": [
    "Como pode ser visto, o classificador Decision Tree obteve melhores resultados para a maioria das métricas, portanto, podemos obter os melhores parâmetros deste modelo e salvá-lo em disco para utilização em uma próxima etapa."
   ]
  },
  {
   "cell_type": "code",
   "execution_count": 10,
   "id": "bd18b1c8-f6e8-4f72-acb2-7ec5648c32fd",
   "metadata": {
    "tags": []
   },
   "outputs": [
    {
     "name": "stdout",
     "output_type": "stream",
     "text": [
      "Hiper parâmetros do modelo: {'criterion': 'gini', 'max_depth': 8}\n"
     ]
    }
   ],
   "source": [
    "#Obtem o modelo e os parametros ganhadores\n",
    "model_name, model_object, model_parameters  = [foo for foo in models if foo[0] == \"Decision Tree\"][0] \n",
    "\n",
    "\n",
    "model_grid_search = GridSearchCV(\n",
    "        estimator=model_object,\n",
    "        param_grid=model_parameters,\n",
    "        scoring=scoring,\n",
    "        n_jobs=2,\n",
    "        cv=cross_validate_grid_search\n",
    "    )\n",
    "\n",
    "approach = Pipeline([\n",
    "    (\"preprocessor\", preprocessor),\n",
    "    (\"model\", model_grid_search)\n",
    "])\n",
    "\n",
    "approach.fit(X, y) #Seleciona o approach\n",
    "\n",
    "print(f\"Hiper parâmetros do modelo: {approach.steps[1][1].best_params_}\")"
   ]
  },
  {
   "cell_type": "code",
   "execution_count": 11,
   "id": "f9c74bdb-8b1f-45cc-8bc3-d5b459e20e14",
   "metadata": {
    "tags": []
   },
   "outputs": [
    {
     "data": {
      "text/plain": [
       "['../models/model.joblib']"
      ]
     },
     "execution_count": 11,
     "metadata": {},
     "output_type": "execute_result"
    }
   ],
   "source": [
    "joblib.dump(approach, '../models/model.joblib') # Salva o modelo em disco"
   ]
  }
 ],
 "metadata": {
  "kernelspec": {
   "display_name": "Python 3 (ipykernel)",
   "language": "python",
   "name": "python3"
  },
  "language_info": {
   "codemirror_mode": {
    "name": "ipython",
    "version": 3
   },
   "file_extension": ".py",
   "mimetype": "text/x-python",
   "name": "python",
   "nbconvert_exporter": "python",
   "pygments_lexer": "ipython3",
   "version": "3.10.12"
  }
 },
 "nbformat": 4,
 "nbformat_minor": 5
}
