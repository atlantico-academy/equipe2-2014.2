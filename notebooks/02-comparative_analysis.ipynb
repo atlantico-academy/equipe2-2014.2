{
 "cells": [
  {
   "cell_type": "markdown",
   "id": "7dcc5de1-322c-4ff1-bdaa-320867a7d282",
   "metadata": {},
   "source": [
    "# Análise comparativa de modelos"
   ]
  },
  {
   "cell_type": "code",
   "execution_count": null,
   "id": "d4c44752-81aa-4d2c-a04f-966a1ca58381",
   "metadata": {
    "tags": []
   },
   "outputs": [],
   "source": [
    "from IPython.display import Image, display, Markdown\n",
    "import numpy as np\n",
    "import pandas as pd\n",
    "import seaborn as sns\n",
    "import matplotlib.pyplot as plt\n",
    "from scipy import stats\n",
    "import joblib\n",
    "\n",
    "from sklearn.pipeline import Pipeline\n",
    "from sklearn.impute import SimpleImputer\n",
    "from sklearn.preprocessing import StandardScaler, MinMaxScaler, OneHotEncoder, OrdinalEncoder, LabelEncoder\n",
    "from sklearn.compose import ColumnTransformer\n",
    "from sklearn.linear_model import LogisticRegression\n",
    "\n",
    "from sklearn.neighbors import KNeighborsClassifier\n",
    "from sklearn.model_selection import ShuffleSplit, GridSearchCV, KFold, cross_validate\n",
    "from sklearn.svm import SVC\n",
    "from sklearn.tree import DecisionTreeClassifier\n",
    "from sklearn.ensemble import RandomForestClassifier\n",
    "\n",
    "import warnings\n",
    "warnings.filterwarnings(\"ignore\", category=UserWarning)"
   ]
  },
  {
   "cell_type": "markdown",
   "id": "bf3ed9ad-8e6e-4069-bb37-9d508a1fbf59",
   "metadata": {},
   "source": [
    "## 1. Obtenção de Dados"
   ]
  },
  {
   "cell_type": "markdown",
   "id": "2a93d02e-1b2c-44b9-a994-35161e215fa7",
   "metadata": {},
   "source": [
    "Nessa etapa obtemos novamente os arquivos brutos de dados e o dicionário antes de iniciar o pré-processamento."
   ]
  },
  {
   "cell_type": "code",
   "execution_count": null,
   "id": "4c0748a5-e4cc-4931-8716-2d77e9995753",
   "metadata": {
    "tags": []
   },
   "outputs": [],
   "source": [
    "df = pd.read_csv(\"../data/raw/diabetes_prediction_dataset.csv\")\n",
    "df_dict = pd.read_csv(\"../data/external/dictionary.csv\")\n",
    "df_dict"
   ]
  },
  {
   "cell_type": "markdown",
   "id": "77cb697f-fa4d-40a4-bd84-80f8ce6fbcd8",
   "metadata": {},
   "source": [
    "## 2. Preparação de dados"
   ]
  },
  {
   "cell_type": "markdown",
   "id": "dcdc029a-2f3e-41ae-bf67-4bce6e555519",
   "metadata": {},
   "source": [
    "Aqui realizamos a normalização, codificação e o tratamento de dados discrepantes e/ou faltantes dentro do conjunto de dados."
   ]
  },
  {
   "cell_type": "code",
   "execution_count": 3,
   "id": "103a8dff-2e83-4e7c-bcd1-e15c0f4942ae",
   "metadata": {
    "tags": []
   },
   "outputs": [],
   "source": [
    "# Definindo a variável alvo e as colunas nominais, contínuas e discretas\n",
    "target_column = 'diabetes'  # A variável alvo\n",
    "\n",
    "# Filtrando as colunas nominais e contínuas\n",
    "nominal_columns = (\n",
    "    df_dict\n",
    "    .query(\"subtipo == 'nominal' and variavel != @target_column\")\n",
    "    .variavel\n",
    "    .to_list()\n",
    ")\n",
    "\n",
    "continuous_columns = (\n",
    "    df_dict\n",
    "    .query(\"subtipo == 'continua'\")\n",
    "    .variavel\n",
    "    .to_list()\n",
    ")\n",
    "\n",
    "# Filtrando as colunas discretas\n",
    "discrete_columns = (\n",
    "    df_dict\n",
    "    .query(\"subtipo == 'discreta'and variavel != @target_column\")\n",
    "    .variavel\n",
    "    .to_list()\n",
    ")\n",
    "\n",
    "# Separando as features (X) da variável alvo (y)\n",
    "X = df.drop(columns=[target_column], axis=1)\n",
    "y = df[target_column]"
   ]
  },
  {
   "cell_type": "markdown",
   "id": "4982ed57-ba79-43f1-ba88-5b73e75e3294",
   "metadata": {},
   "source": [
    "## 2.1 Pré-processamento"
   ]
  },
  {
   "cell_type": "code",
   "execution_count": null,
   "id": "d9a03e23-f6dd-452b-8c9a-2389dba4c517",
   "metadata": {
    "tags": []
   },
   "outputs": [],
   "source": [
    "# Pré-processador para variáveis nominais\n",
    "nominal_preprocessor = Pipeline([\n",
    "    ('missing', SimpleImputer(strategy='most_frequent')),  # Tratamento de dados faltantes\n",
    "    ('encoding', OneHotEncoder(sparse_output=False, drop='first')),  # Codificação de variáveis nominais\n",
    "])\n",
    "\n",
    "# Pré-processador para variáveis contínuas\n",
    "continuous_preprocessor = Pipeline([\n",
    "    ('missing', SimpleImputer(strategy='mean')),  # Tratamento de dados faltantes\n",
    "    ('normalization', StandardScaler())  # Normalização de dados contínuos\n",
    "])\n",
    "\n",
    "# Pré-processador para variáveis discretas\n",
    "discrete_preprocessor = Pipeline([\n",
    "    ('missing', SimpleImputer(strategy='most_frequent')),  # Tratamento de dados faltantes\n",
    "    ('normalization', MinMaxScaler())  # Normalização de variáveis discretas\n",
    "])\n",
    "\n",
    "# Combinando os pré-processadores usando ColumnTransformer\n",
    "preprocessor = ColumnTransformer([\n",
    "    ('nominal', nominal_preprocessor, nominal_columns),\n",
    "    ('continuous', continuous_preprocessor, continuous_columns),\n",
    "    ('discrete', discrete_preprocessor, discrete_columns)\n",
    "])\n",
    "\n",
    "# Aplicando o pré-processamento ao conjunto de dados\n",
    "X_preprocessed = preprocessor.fit_transform(X)\n",
    "\n",
    "# Verificando os resultados do pré-processamento\n",
    "print(\"X_preprocessed shape:\", X_preprocessed.shape)\n",
    "print(\"X_preprocessed sample:\", X_preprocessed[:5])"
   ]
  },
  {
   "cell_type": "markdown",
   "id": "879d9909-695c-4f90-8935-fb1c670d9273",
   "metadata": {},
   "source": [
    "## 3. Seleção de modelos"
   ]
  },
  {
   "cell_type": "markdown",
   "id": "abdabf1f-cf81-443a-beab-72a7a64837de",
   "metadata": {},
   "source": [
    "### 3.1. Metodologia"
   ]
  },
  {
   "cell_type": "markdown",
   "id": "79d278c1-2aea-44d2-912d-b5201153438e",
   "metadata": {},
   "source": [
    "Iremos análisar quatro modelos, que serão testados utilizando um método de validação, a saber:\n",
    "\n",
    "- K-Nearest-Neighbors\n",
    "- Support Vector Machine\n",
    "- Decision Tree\n",
    "- Random Forest\n",
    "Além disso, cada um desses algoritmos será testado com diferentes hiper-parametros, para que possamos encontrar o melhor modelo e a melhor configuração possível para esse modelo.\n",
    "\n",
    "Utilizaremos as seguintes métricas para análise:\n",
    "\n",
    "- **Acurácia (accuracy)**: proporção entre os dados que foram corretamente previstos (como positivos ou negativos) com o total de dados observados;\n",
    "- **Precisão (precision)**: proporção entre dados corretamente previstos como positivos e o total de observações positivas.\n",
    "- **Recall**: proporção entre dados corretamente previstos como positivos com o total de observações.\n",
    "- **F1-score**: média entre precision e recall, portanto levando em conta tanto falsos positivos quanto falsos negativos."
   ]
  },
  {
   "cell_type": "markdown",
   "id": "9cac9968-d2f3-48ef-a669-b0e610e086fa",
   "metadata": {
    "tags": []
   },
   "source": [
    "### 3.2. Configuração do experimento"
   ]
  },
  {
   "cell_type": "code",
   "execution_count": 5,
   "id": "917329f1-2067-45df-b702-d44ee662a3a8",
   "metadata": {
    "tags": []
   },
   "outputs": [],
   "source": [
    "# Configurações do experimento\n",
    "n_splits_comparative_analysis = 10\n",
    "n_folds_grid_search = 5\n",
    "test_size = 0.3\n",
    "random_state = 0\n",
    "scoring = 'accuracy'\n",
    "\n",
    "# Métricas para análises\n",
    "metrics = ['accuracy', 'precision_macro', 'recall_macro', 'f1_macro']\n",
    "\n",
    "# Configurações do modelo\n",
    "max_iter = 10000000\n",
    "models = [\n",
    "    ('K-Nearest Neighbors', KNeighborsClassifier(), {\"n_neighbors\": range(3, 20, 2), 'weights': ['uniform', 'distance']}),\n",
    "    ('Decision Tree',  DecisionTreeClassifier(random_state=random_state), {'criterion':['gini','entropy'],'max_depth': [3, 6, 8]}),\n",
    "    ('Random Forest',  RandomForestClassifier(random_state=random_state), {'criterion':['gini','entropy'],'max_depth': [3, 6, 8], 'n_estimators': [10, 30]}),\n",
    "    ('Suport Vector Machines', SVC(random_state=random_state, max_iter=max_iter), {\"kernel\": [\"linear\", \"rbf\"], 'C':[1,10,100,1000],'gamma':[0.0001, 0.001, 0.1, 1]})\n",
    "]"
   ]
  },
  {
   "cell_type": "code",
   "execution_count": null,
   "id": "c33ac127-13a7-473a-a294-3c35ae266b4c",
   "metadata": {
    "tags": []
   },
   "outputs": [
    {
     "name": "stdout",
     "output_type": "stream",
     "text": [
      "running K-Nearest Neighbors...\n"
     ]
    }
   ],
   "source": [
    "results = pd.DataFrame({})\n",
    "cross_validate_grid_search = KFold(n_splits=n_folds_grid_search)\n",
    "cross_validate_comparative_analysis = ShuffleSplit(n_splits=n_splits_comparative_analysis, test_size=test_size, random_state=random_state)\n",
    "for model_name, model_object, model_parameters in models:\n",
    "    print(f\"running {model_name}...\")\n",
    "    model_grid_search = GridSearchCV(\n",
    "        estimator=model_object,\n",
    "        param_grid=model_parameters,\n",
    "        scoring=scoring,\n",
    "        n_jobs=-1,\n",
    "        cv=cross_validate_grid_search\n",
    "    )\n",
    "    approach = Pipeline(steps=[\n",
    "        ('preprocessor', preprocessor),\n",
    "        ('model', model_grid_search)\n",
    "    ])\n",
    "    scores = cross_validate(\n",
    "        estimator=approach,\n",
    "        X=X,\n",
    "        y=y,\n",
    "        cv=cross_validate_comparative_analysis,\n",
    "        n_jobs=-1,\n",
    "        scoring=metrics\n",
    "    )\n",
    "    scores['model_name'] = [model_name] * n_splits_comparative_analysis\n",
    "    df_scores = pd.DataFrame(scores)\n",
    "    df_scores =  df_scores.drop(columns=['model_name'])\n",
    "    df_scores = df_scores.agg(['mean', 'std'])\n",
    "    display(df_scores)\n",
    "    results = pd.concat([results, pd.DataFrame(scores)], ignore_index=True)"
   ]
  },
  {
   "cell_type": "code",
   "execution_count": null,
   "id": "2650aef7-2a3d-4a4d-a204-68d942e2db03",
   "metadata": {},
   "outputs": [],
   "source": []
  }
 ],
 "metadata": {
  "kernelspec": {
   "display_name": "Python 3 (ipykernel)",
   "language": "python",
   "name": "python3"
  },
  "language_info": {
   "codemirror_mode": {
    "name": "ipython",
    "version": 3
   },
   "file_extension": ".py",
   "mimetype": "text/x-python",
   "name": "python",
   "nbconvert_exporter": "python",
   "pygments_lexer": "ipython3",
   "version": "3.10.11"
  }
 },
 "nbformat": 4,
 "nbformat_minor": 5
}
