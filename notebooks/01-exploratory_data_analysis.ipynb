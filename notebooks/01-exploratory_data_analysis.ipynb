{
 "cells": [
  {
   "cell_type": "markdown",
   "metadata": {},
   "source": [
    "# Análise exploratória de dados"
   ]
  },
  {
   "cell_type": "code",
   "execution_count": null,
   "metadata": {},
   "outputs": [],
   "source": [
    "import pandas as pd\n",
    "import numpy as np\n",
    "import matplotlib.pyplot as plt\n",
    "from pathlib import Path\n",
    "import seaborn as sns\n",
    "from IPython.display import display, Markdown\n",
    "\n",
    "palette = sns.color_palette(\"pastel\")\n",
    "sns.set_style(\"whitegrid\")\n",
    "sns.set_theme(style=\"ticks\")\n",
    "sns.set_palette(sns.color_palette(palette))"
   ]
  },
  {
   "cell_type": "code",
   "execution_count": null,
   "metadata": {
    "tags": []
   },
   "outputs": [],
   "source": [
    "df = pd.read_csv('../data/raw/diabetes_prediction_dataset.csv')\n",
    "df.head()"
   ]
  },
  {
   "cell_type": "markdown",
   "metadata": {},
   "source": [
    "## 1. Descrição dos dados"
   ]
  },
  {
   "cell_type": "markdown",
   "metadata": {},
   "source": [
    "![Diabetes](https://tschealth.com/wp-content/uploads/2023/06/Diabetes-Disease-1170x740.jpg)"
   ]
  },
  {
   "cell_type": "markdown",
   "metadata": {},
   "source": [
    "**Diabetes prediction dataset** é um conjunto de dados médicos e demográficos de pacientes, juntamente com seu status de diabetes (positivo ou negativo). Os dados incluem características como idade, sexo, índice de massa corporal (IMC), hipertensão, doenças cardíacas, histórico de tabagismo, nível de açucar e nível de glicose no sangue. Este conjunto de dados pode ser usado para construir modelos de aprendizado de máquina para prever diabetes em pacientes com base em seu histórico médico e informações demográficas. Isto pode ser útil para os profissionais de saúde na identificação de pacientes que possam estar em risco de desenvolver diabetes e no desenvolvimento de planos de tratamento personalizados. Além disso, o conjunto de dados pode ser usado por pesquisadores para explorar as relações entre vários fatores médicos e demográficos e a probabilidade de desenvolver diabetes."
   ]
  },
  {
   "cell_type": "markdown",
   "metadata": {},
   "source": [
    "#### Dicionário dos dados:"
   ]
  },
  {
   "cell_type": "code",
   "execution_count": null,
   "metadata": {
    "tags": []
   },
   "outputs": [],
   "source": [
    "dict = Path(\"../data/external/dictionary.csv\", index = False)\n",
    "dicionario = pd.read_csv(dict, sep=',')\n",
    "dicionario"
   ]
  },
  {
   "cell_type": "markdown",
   "metadata": {},
   "source": [
    "#### Dados faltantes:"
   ]
  },
  {
   "cell_type": "code",
   "execution_count": null,
   "metadata": {},
   "outputs": [],
   "source": [
    "null_counts = df.isnull().sum()\n",
    "\n",
    "print(null_counts)\n",
    "\n",
    "display(Markdown(\n",
    "    \"---\\n\"\n",
    "    f\"Sabemos assim que a não existem valores faltantes.\"))"
   ]
  },
  {
   "cell_type": "code",
   "execution_count": null,
   "metadata": {
    "tags": []
   },
   "outputs": [],
   "source": [
    "df.describe(include='all')"
   ]
  },
  {
   "cell_type": "markdown",
   "metadata": {},
   "source": [
    "Observações:\n",
    "\n",
    "- Mulheres são a maioria no conjunto de dados;\n",
    "- A idade média dos pacientes é de aproximadamente 42 anos;\n",
    "- O paciente mais jovem tinha aproximadamente 1 mês de vida;\n",
    "- O paciente mais velho tinha 80 anos."
   ]
  },
  {
   "cell_type": "markdown",
   "metadata": {
    "tags": []
   },
   "source": [
    "---\n",
    "\n",
    "Vamos verificar a necessidade de manter o valor \"Other\" da coluna \"gender\""
   ]
  },
  {
   "cell_type": "code",
   "execution_count": null,
   "metadata": {
    "tags": []
   },
   "outputs": [],
   "source": [
    "count = (df['gender'] == 'Other').sum() #conta a presença do valor \"Other\" na coluna \"gender\"\n",
    "print(f\"Número de linhas com 'other' na coluna 'gender': {count}\")"
   ]
  },
  {
   "cell_type": "markdown",
   "metadata": {},
   "source": [
    "Sendo um valor irrisório comparado à quantidade de dados nesse dataset, removeremos os valores \"Other\" da coluna."
   ]
  },
  {
   "cell_type": "code",
   "execution_count": null,
   "metadata": {
    "tags": []
   },
   "outputs": [],
   "source": [
    "df = df[df['gender'] != 'Other']"
   ]
  },
  {
   "cell_type": "markdown",
   "metadata": {},
   "source": [
    "---\n",
    "\n",
    "Agora verificaremos a presença de linhas duplicadas. Considerando a variabilidade em casas decimais de algumas variáveis, podemos assumir que linhas com os mesmos valores se referem ao mesmo paciente."
   ]
  },
  {
   "cell_type": "code",
   "execution_count": null,
   "metadata": {
    "tags": []
   },
   "outputs": [],
   "source": [
    "duplicatas: int = df.duplicated().sum()\n",
    "print(f\"Número de duplicatas: {duplicatas}\")\n",
    "df = df.drop_duplicates()\n",
    "display(Markdown(\n",
    "    \"---\\n\"))"
   ]
  },
  {
   "cell_type": "markdown",
   "metadata": {},
   "source": [
    "## 2. Perguntas de partida e hipóteses"
   ]
  },
  {
   "cell_type": "markdown",
   "metadata": {},
   "source": [
    "- Existe relação entre diabetes e gênero?\n",
    "- O historico de fumante do paciente tem relação com a diabetes?\n",
    "- Qual a relação entre diabetes e glicose/açucar no sangue?\n",
    "- Qual a correlação entre os dados?\n",
    "- Existem dados faltantes, se sim quantos e em quais variáveis?\n",
    "- Qual a distribuição dos dados (variável por variável)?\n",
    "- Existe alguma relação entre o gênero, idade e o diagnóstico de diabetes nos pacientes?\n",
    "- Existe relação entre as doenças de hipertenção, doença no coração e o dignóstico de diabetes?\n"
   ]
  },
  {
   "cell_type": "markdown",
   "metadata": {},
   "source": [
    "## 3 Análises"
   ]
  },
  {
   "cell_type": "markdown",
   "metadata": {},
   "source": [
    "### 3.1 Análises univariadas"
   ]
  },
  {
   "cell_type": "code",
   "execution_count": null,
   "metadata": {
    "tags": []
   },
   "outputs": [],
   "source": [
    "fig, axes = plt.subplots(2,3,figsize=(20, 10)) #cria conjunto de gráficos e define o tamanho\n",
    "\n",
    "#historgrama da idade\n",
    "ax = df['age'].hist(bins=30, ax=axes[0,0], edgecolor='black') #cria o histograma\n",
    "ax.grid(False) #remove grade\n",
    "ax.set_title('Histograma da idade') #adiciona título\n",
    "\n",
    "#histograma do IMC\n",
    "ax = df['bmi'].hist(bins=30, ax=axes[0,1], edgecolor='black')\n",
    "ax.grid(False)\n",
    "ax.set_title('Histograma do IMC')\n",
    "\n",
    "# gráfico da distribuição de gênero\n",
    "sns.countplot(x='gender',data=df, ax=axes[0,2]) #cria o gráfico\n",
    "axes[0,2].set_title('Distribuição de gênero') # adiciona título\n",
    "axes[0,2].set_xlabel('')  #remove a legenda inferior\n",
    "\n",
    "# Gráfico da variável hypertension\n",
    "sns.countplot(x='hypertension',data=df, ax=axes[1,0])\n",
    "axes[1,0].set_title('Distribuição da variável hypertension')\n",
    "axes[1,0].set_xlabel('')\n",
    "\n",
    "\n",
    "# Gráfico da variável heart_disease\n",
    "sns.countplot(x='heart_disease',data=df, ax=axes[1,1])\n",
    "axes[1,1].set_title('Distribuição da variável heart_disease')\n",
    "axes[1,1].set_xlabel('')\n",
    "\n",
    "# Gráfico da variável smoking_history\n",
    "sns.countplot(x='smoking_history',data=df, ax=axes[1,2])\n",
    "axes[1,2].set_title('Distribuição da variável smoking_history')\n",
    "axes[1,2].set_xlabel('')"
   ]
  },
  {
   "cell_type": "markdown",
   "metadata": {},
   "source": [
    "#### Observações:\n",
    "\n",
    "- A grande maioria dos paciente tem cerca de 80 anos;\n",
    "\n",
    "- A grande maioria dos pacientes possui IMC em torno de 30;\n",
    "\n",
    "- A maioria dos pacientes é composta por mulheres;\n",
    "\n",
    "- A grande maioria dos pacientes observados não possuia hipertensão ou doeça do coração, porém hipertensão é mais frequente;\n",
    "\n",
    "- A grande maioria não tem histórico de tabagismo."
   ]
  },
  {
   "cell_type": "code",
   "execution_count": null,
   "metadata": {
    "tags": []
   },
   "outputs": [],
   "source": [
    "#cria gráfico relacionando genero e diabetes\n",
    "plt.figure(figsize=(14,7))\n",
    "df_diabetes = df[df['diabetes'] == 1]\n",
    "palette = {'Female': 'pink', 'Male': 'cornflowerblue'}\n",
    "sns.countplot(x='gender',data=df_diabetes,palette=palette)\n",
    "plt.show()"
   ]
  },
  {
   "cell_type": "markdown",
   "metadata": {},
   "source": [
    "---\n",
    "\n",
    "- A quantidade de mulheres diabéticas é levemente superior a de homens.\n",
    "\n",
    "---"
   ]
  },
  {
   "cell_type": "markdown",
   "metadata": {},
   "source": [
    "### 3.2 Análise bivariada"
   ]
  },
  {
   "cell_type": "code",
   "execution_count": null,
   "metadata": {
    "tags": []
   },
   "outputs": [],
   "source": [
    "# Gráficos de dispersão entre variáveis numéricas\n",
    "num_vars = ['age', 'bmi', 'HbA1c_level', 'blood_glucose_level','diabetes'] #seleciona apenas as variáveis numéricas\n",
    "sns.pairplot(df[num_vars], hue='diabetes') #cria uma matriz de gráficos de dispersão\n",
    "plt.suptitle('Gráficos de dispersão entre as variáveis numéricas',y=1.02)\n",
    "plt.show()"
   ]
  },
  {
   "cell_type": "markdown",
   "metadata": {},
   "source": [
    "#### Observações:\n",
    "\n",
    "- Todos os indivíduos com o nível de glicose no sangue acima de 200 são considerados diabéticos;\n",
    "- Dos diabéticos que registraram glicose abaixo de 200, a maioria é composta por indívidos acima de 50 anos;\n",
    "- Indivíduos com idade superior a 30 anos aparentam estar mais suscetíveis a apresentar diabetes mesmo com IMC inferior a 40;\n",
    "- Observamos indivíduos diabéticos com glicose controlada porém com níveis de hemoglobina glicada altos. "
   ]
  },
  {
   "cell_type": "code",
   "execution_count": null,
   "metadata": {
    "tags": []
   },
   "outputs": [],
   "source": [
    "fig, axes = plt.subplots(2,2,figsize=(15, 10)) #cria conjunto de gráficos e define o tamanho\n",
    "\n",
    "\n",
    "#boxplot de diabetes por idade\n",
    "sns.boxplot(x='diabetes', y='age', data=df, palette='Set2',ax = axes[0,0]) #cria o gráfico\n",
    "axes[0,0].set_title('Distribuição de diabetes por idade') #adiciona título\n",
    "axes[0,0].set_xlabel('') #remove legenda inferior\n",
    "axes[0,0].set_ylabel('Idade')\n",
    "\n",
    "#boxplot de diabetes por IMC\n",
    "sns.boxplot(x='diabetes',y='bmi', data=df, palette='Set2',ax = axes[0,1])\n",
    "axes[0,1].set_title('Distribuição de diabetes por IMC')\n",
    "axes[0,1].set_xlabel('')\n",
    "axes[0,1].set_ylabel('IMC')\n",
    "\n",
    "#boxplot de HbA1c por diabetes\n",
    "sns.boxplot(x='diabetes',y='HbA1c_level', data=df, palette='Set2',ax = axes[1,1])\n",
    "axes[1,1].set_title('Distribuição de diabetes por HbA1c')\n",
    "axes[1,1].set_xlabel('')\n",
    "axes[1,1].set_ylabel('HbA1c')\n",
    "\n",
    "#boxplot de diabetes por glicose no sangue\n",
    "sns.boxplot(x='diabetes',y='blood_glucose_level', data=df, palette='Set2',ax = axes[1,0])\n",
    "axes[1,0].set_title('Distribuição de diabetes por glicose no sangue')\n",
    "axes[1,0].set_xlabel('')\n",
    "axes[1,0].set_ylabel('glicose no sangue')"
   ]
  },
  {
   "cell_type": "markdown",
   "metadata": {},
   "source": [
    "#### Observações:\n",
    "\n",
    "- Pacientes com maior IMC aparentam estar mais propícios a apresentar diabetes;\n",
    "\n",
    "- Todos os pacientes diabéticos tinham glicose no sangue acima de 100;\n",
    "\n",
    "- Muitos pacientes com níveis de glicose e hemoglobina glicada altas não foram considerados diabéticos;\n",
    "\n",
    "- Os níveis de hemoglobina glicada em diabéticos foram mais concentrados entre 6% e 8%;"
   ]
  },
  {
   "cell_type": "markdown",
   "metadata": {},
   "source": [
    "### 3.3 Análises multivariadas"
   ]
  },
  {
   "cell_type": "code",
   "execution_count": null,
   "metadata": {
    "tags": []
   },
   "outputs": [],
   "source": [
    "#boxplots do IMC por histórico de tabagismo \n",
    "plt.figure(figsize=(12, 8)) #cria figura\n",
    "sns.boxplot(x='smoking_history', y='bmi', hue='diabetes', data=df[df['smoking_history'] != 'No Info'], palette='Set2') #Cria o gráfico sem o valor \"no info\" para a variável smoking_history\n",
    "plt.title('Distribuição de IMC por histórico de tabagismo e diabetes')\n",
    "plt.xlabel('Histórico de tabagismo') \n",
    "plt.ylabel('IMC')\n",
    "plt.show()"
   ]
  },
  {
   "cell_type": "code",
   "execution_count": null,
   "metadata": {
    "tags": []
   },
   "outputs": [],
   "source": [
    "#boxplots de IMC por gênero por diabetes\n",
    "plt.figure(figsize=(12, 8))\n",
    "pal_gen = dict(Female='pink', Male='cornflowerblue') #cria um dicionário para servir como paleta\n",
    "sns.boxplot(x='diabetes', y='bmi', hue='gender', data=df, palette=pal_gen)\n",
    "plt.title('Distribuição de IMC por gênero por diabetes')\n",
    "plt.xlabel('Diabetes')\n",
    "plt.ylabel('IMC')"
   ]
  },
  {
   "cell_type": "markdown",
   "metadata": {},
   "source": [
    "### Observações:\n",
    "\n",
    "- Não parece haver relação entre tabagismo e o diagnóstico de diabetes;\n",
    "- Mulheres diabéticas apresentaram IMC levemente maior que dos homens diabéticos, com maior variabilidade e limite superior maior."
   ]
  },
  {
   "cell_type": "markdown",
   "metadata": {},
   "source": [
    "### 3.4 Correlação"
   ]
  },
  {
   "cell_type": "code",
   "execution_count": null,
   "metadata": {
    "tags": []
   },
   "outputs": [],
   "source": [
    "var_quantitativas = df.select_dtypes(include=['int','float']) #seleciona as variáveis quantitativas\n",
    "matriz_correlacao = var_quantitativas.corr() #cria a matriz de correlação\n",
    "plt.figure(figsize=(15, 10))\n",
    "sns.heatmap(matriz_correlacao, annot=True, cmap='coolwarm',center=0, fmt=\".2f\") #cria o heatmap para visualização da matriz\n",
    "plt.title('Matriz de correlação')\n",
    "plt.show()"
   ]
  },
  {
   "cell_type": "markdown",
   "metadata": {},
   "source": [
    "#### Observações:\n",
    "\n",
    "- Os maiores índices de correlação com a diabetes são, respectivamente, blood_glucose_level com 42% e HbA1c_level com 40%;\n",
    "- Os menores índices de correlação com a diabetes são, respectivamente, heart_disease com 17% e hypertension com 20%;\n",
    "- Moderada correlação entre a idade e o diagnóstico de diabetes;\n",
    "- Observamos também correlação significativa entre o IMC do paciente e o diagnóstico de diabetes."
   ]
  },
  {
   "cell_type": "markdown",
   "metadata": {},
   "source": [
    "## 3. *Insights*"
   ]
  },
  {
   "cell_type": "markdown",
   "metadata": {},
   "source": [
    "#### Com essas análises obtivemos os seguintes insights:\n",
    "\n",
    "- Apesar de termos mais mulheres diabéticas do que homens diabéticos proporcionalmente, temos 7,61% de mulheres diabéticas e 9,75% de homens diabéticos;\n",
    "\n",
    "- Não observamos relação significativa entre o histórico de tabagismo e o dignóstico de diabetes;\n",
    "\n",
    "- Todos os indivíduos com o nível de glicose no sangue acima de 200 são considerados diabéticos;\n",
    "\n",
    "- As maiores correlações associadas ao diagnóstico positivo de diabetes foram das variáveis nível de glicose, hemoglobina glicada, idade e IMC, respectivamente;\n",
    "\n",
    "- Mulheres diabéticas apresentaram IMC levemente maior que dos homens diabéticos, com maior variabilidade e limite superior maior;\n",
    "\n",
    "- Indivíduos com idade superior a 30 anos aparentam estar mais suscetíveis a apresentar diabetes.\n",
    "\n",
    "- Não foram constatadas relações significativas entre doenças do coração e hipertenção quanto ao diagnóstico de diabetes."
   ]
  }
 ],
 "metadata": {
  "kernelspec": {
   "display_name": "Python 3 (ipykernel)",
   "language": "python",
   "name": "python3"
  },
  "language_info": {
   "codemirror_mode": {
    "name": "ipython",
    "version": 3
   },
   "file_extension": ".py",
   "mimetype": "text/x-python",
   "name": "python",
   "nbconvert_exporter": "python",
   "pygments_lexer": "ipython3",
   "version": "3.10.11"
  },
  "vscode": {
   "interpreter": {
    "hash": "eb3c3305d8b111f0102f4f519c5f17abd113fe74db6752c355e994a9008815ef"
   }
  }
 },
 "nbformat": 4,
 "nbformat_minor": 4
}
